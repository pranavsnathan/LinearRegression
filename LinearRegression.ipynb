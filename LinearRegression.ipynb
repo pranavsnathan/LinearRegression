{
 "cells": [
  {
   "cell_type": "code",
   "execution_count": null,
   "metadata": {
    "collapsed": true
   },
   "outputs": [],
   "source": [
    "# Diamonds Data Set containig the prices and other features of close to 54000 diamonds\n",
    "# Description of the data set\n",
    "# price price in US dollars (\\$326--\\$18,823)\n",
    "# carat weight of the diamond (0.2--5.01)\n",
    "# cut quality of the cut (Fair, Good, Very Good, Premium, Ideal)\n",
    "# color diamond colour, from J (worst) to D (best)\n",
    "# clarity a measurement of how clear the diamond is (I1 (worst), SI2, SI1, VS2, VS1, VVS2, VVS1, IF (best))\n",
    "# x length in mm (0--10.74)\n",
    "# y width in mm (0--58.9)\n",
    "# z depth in mm (0--31.8)\n",
    "# depth total depth percentage = z / mean(x, y) = 2 * z / (x + y) (43--79)\n",
    "# table width of top of diamond relative to widest point (43--95)\n",
    "\n",
    "\n"
   ]
  },
  {
   "cell_type": "markdown",
   "metadata": {},
   "source": [
    "# The aim of this process is to build a linear regression model in order to predict the prices of diamonds based on certain features."
   ]
  },
  {
   "cell_type": "code",
   "execution_count": 121,
   "metadata": {
    "collapsed": true
   },
   "outputs": [],
   "source": [
    "import pandas as pd\n",
    "import numpy as np\n",
    "import matplotlib.pyplot as plt\n",
    "from sklearn import linear_model\n",
    "from sklearn.model_selection import train_test_split\n",
    "from sklearn.model_selection import cross_val_score\n",
    "from sklearn.linear_model import Lasso\n",
    "from sklearn.model_selection import cross_val_score, train_test_split\n",
    "from sklearn.preprocessing import StandardScaler\n",
    "from sklearn.linear_model import LinearRegression, Ridge, LassoCV, ElasticNetCV\n",
    "from sklearn.metrics import mean_squared_error, make_scorer\n",
    "import seaborn as sns\n",
    "import statsmodels.api as sm\n",
    "import statsmodels.formula.api as sm\n",
    "from sklearn import metrics\n",
    "from sklearn.metrics import classification_report\n",
    "from sklearn.metrics import confusion_matrix\n",
    "from sklearn.neighbors import KNeighborsClassifier\n",
    "from statsmodels.stats.outliers_influence import variance_inflation_factor    \n",
    "from sklearn.ensemble import RandomForestRegressor\n",
    "from sklearn.model_selection import cross_val_score, KFold"
   ]
  },
  {
   "cell_type": "markdown",
   "metadata": {},
   "source": [
    "# Importing diamond dataset into pandas dataframe"
   ]
  },
  {
   "cell_type": "code",
   "execution_count": 122,
   "metadata": {},
   "outputs": [],
   "source": [
    "diamonds=pd.read_csv('diamonds.csv')"
   ]
  },
  {
   "cell_type": "code",
   "execution_count": 236,
   "metadata": {},
   "outputs": [
    {
     "data": {
      "text/html": [
       "<div>\n",
       "<style>\n",
       "    .dataframe thead tr:only-child th {\n",
       "        text-align: right;\n",
       "    }\n",
       "\n",
       "    .dataframe thead th {\n",
       "        text-align: left;\n",
       "    }\n",
       "\n",
       "    .dataframe tbody tr th {\n",
       "        vertical-align: top;\n",
       "    }\n",
       "</style>\n",
       "<table border=\"1\" class=\"dataframe\">\n",
       "  <thead>\n",
       "    <tr style=\"text-align: right;\">\n",
       "      <th></th>\n",
       "      <th>carat</th>\n",
       "      <th>cut</th>\n",
       "      <th>color</th>\n",
       "      <th>clarity</th>\n",
       "      <th>depth</th>\n",
       "      <th>table</th>\n",
       "      <th>price</th>\n",
       "      <th>x</th>\n",
       "      <th>y</th>\n",
       "      <th>z</th>\n",
       "    </tr>\n",
       "  </thead>\n",
       "  <tbody>\n",
       "    <tr>\n",
       "      <th>0</th>\n",
       "      <td>0.23</td>\n",
       "      <td>0</td>\n",
       "      <td>0</td>\n",
       "      <td>0</td>\n",
       "      <td>61.5</td>\n",
       "      <td>55.0</td>\n",
       "      <td>326</td>\n",
       "      <td>3.95</td>\n",
       "      <td>3.98</td>\n",
       "      <td>2.43</td>\n",
       "    </tr>\n",
       "    <tr>\n",
       "      <th>1</th>\n",
       "      <td>0.21</td>\n",
       "      <td>1</td>\n",
       "      <td>0</td>\n",
       "      <td>1</td>\n",
       "      <td>59.8</td>\n",
       "      <td>61.0</td>\n",
       "      <td>326</td>\n",
       "      <td>3.89</td>\n",
       "      <td>3.84</td>\n",
       "      <td>2.31</td>\n",
       "    </tr>\n",
       "    <tr>\n",
       "      <th>2</th>\n",
       "      <td>0.23</td>\n",
       "      <td>2</td>\n",
       "      <td>0</td>\n",
       "      <td>2</td>\n",
       "      <td>56.9</td>\n",
       "      <td>65.0</td>\n",
       "      <td>327</td>\n",
       "      <td>4.05</td>\n",
       "      <td>4.07</td>\n",
       "      <td>2.31</td>\n",
       "    </tr>\n",
       "    <tr>\n",
       "      <th>3</th>\n",
       "      <td>0.29</td>\n",
       "      <td>1</td>\n",
       "      <td>1</td>\n",
       "      <td>3</td>\n",
       "      <td>62.4</td>\n",
       "      <td>58.0</td>\n",
       "      <td>334</td>\n",
       "      <td>4.20</td>\n",
       "      <td>4.23</td>\n",
       "      <td>2.63</td>\n",
       "    </tr>\n",
       "    <tr>\n",
       "      <th>4</th>\n",
       "      <td>0.31</td>\n",
       "      <td>2</td>\n",
       "      <td>2</td>\n",
       "      <td>0</td>\n",
       "      <td>63.3</td>\n",
       "      <td>58.0</td>\n",
       "      <td>335</td>\n",
       "      <td>4.34</td>\n",
       "      <td>4.35</td>\n",
       "      <td>2.75</td>\n",
       "    </tr>\n",
       "  </tbody>\n",
       "</table>\n",
       "</div>"
      ],
      "text/plain": [
       "   carat  cut  color  clarity  depth  table  price     x     y     z\n",
       "0   0.23    0      0        0   61.5   55.0    326  3.95  3.98  2.43\n",
       "1   0.21    1      0        1   59.8   61.0    326  3.89  3.84  2.31\n",
       "2   0.23    2      0        2   56.9   65.0    327  4.05  4.07  2.31\n",
       "3   0.29    1      1        3   62.4   58.0    334  4.20  4.23  2.63\n",
       "4   0.31    2      2        0   63.3   58.0    335  4.34  4.35  2.75"
      ]
     },
     "execution_count": 236,
     "metadata": {},
     "output_type": "execute_result"
    }
   ],
   "source": [
    "diamonds.head()"
   ]
  },
  {
   "cell_type": "code",
   "execution_count": 5,
   "metadata": {},
   "outputs": [
    {
     "data": {
      "text/html": [
       "<div>\n",
       "<style>\n",
       "    .dataframe thead tr:only-child th {\n",
       "        text-align: right;\n",
       "    }\n",
       "\n",
       "    .dataframe thead th {\n",
       "        text-align: left;\n",
       "    }\n",
       "\n",
       "    .dataframe tbody tr th {\n",
       "        vertical-align: top;\n",
       "    }\n",
       "</style>\n",
       "<table border=\"1\" class=\"dataframe\">\n",
       "  <thead>\n",
       "    <tr style=\"text-align: right;\">\n",
       "      <th></th>\n",
       "      <th>carat</th>\n",
       "      <th>depth</th>\n",
       "      <th>table</th>\n",
       "      <th>price</th>\n",
       "      <th>x</th>\n",
       "      <th>y</th>\n",
       "      <th>z</th>\n",
       "    </tr>\n",
       "  </thead>\n",
       "  <tbody>\n",
       "    <tr>\n",
       "      <th>count</th>\n",
       "      <td>53940.000000</td>\n",
       "      <td>53940.000000</td>\n",
       "      <td>53940.000000</td>\n",
       "      <td>53940.000000</td>\n",
       "      <td>53940.000000</td>\n",
       "      <td>53940.000000</td>\n",
       "      <td>53940.000000</td>\n",
       "    </tr>\n",
       "    <tr>\n",
       "      <th>mean</th>\n",
       "      <td>0.797940</td>\n",
       "      <td>61.749405</td>\n",
       "      <td>57.457184</td>\n",
       "      <td>3932.799722</td>\n",
       "      <td>5.731157</td>\n",
       "      <td>5.734526</td>\n",
       "      <td>3.538734</td>\n",
       "    </tr>\n",
       "    <tr>\n",
       "      <th>std</th>\n",
       "      <td>0.474011</td>\n",
       "      <td>1.432621</td>\n",
       "      <td>2.234491</td>\n",
       "      <td>3989.439738</td>\n",
       "      <td>1.121761</td>\n",
       "      <td>1.142135</td>\n",
       "      <td>0.705699</td>\n",
       "    </tr>\n",
       "    <tr>\n",
       "      <th>min</th>\n",
       "      <td>0.200000</td>\n",
       "      <td>43.000000</td>\n",
       "      <td>43.000000</td>\n",
       "      <td>326.000000</td>\n",
       "      <td>0.000000</td>\n",
       "      <td>0.000000</td>\n",
       "      <td>0.000000</td>\n",
       "    </tr>\n",
       "    <tr>\n",
       "      <th>25%</th>\n",
       "      <td>0.400000</td>\n",
       "      <td>61.000000</td>\n",
       "      <td>56.000000</td>\n",
       "      <td>950.000000</td>\n",
       "      <td>4.710000</td>\n",
       "      <td>4.720000</td>\n",
       "      <td>2.910000</td>\n",
       "    </tr>\n",
       "    <tr>\n",
       "      <th>50%</th>\n",
       "      <td>0.700000</td>\n",
       "      <td>61.800000</td>\n",
       "      <td>57.000000</td>\n",
       "      <td>2401.000000</td>\n",
       "      <td>5.700000</td>\n",
       "      <td>5.710000</td>\n",
       "      <td>3.530000</td>\n",
       "    </tr>\n",
       "    <tr>\n",
       "      <th>75%</th>\n",
       "      <td>1.040000</td>\n",
       "      <td>62.500000</td>\n",
       "      <td>59.000000</td>\n",
       "      <td>5324.250000</td>\n",
       "      <td>6.540000</td>\n",
       "      <td>6.540000</td>\n",
       "      <td>4.040000</td>\n",
       "    </tr>\n",
       "    <tr>\n",
       "      <th>max</th>\n",
       "      <td>5.010000</td>\n",
       "      <td>79.000000</td>\n",
       "      <td>95.000000</td>\n",
       "      <td>18823.000000</td>\n",
       "      <td>10.740000</td>\n",
       "      <td>58.900000</td>\n",
       "      <td>31.800000</td>\n",
       "    </tr>\n",
       "  </tbody>\n",
       "</table>\n",
       "</div>"
      ],
      "text/plain": [
       "              carat         depth         table         price             x  \\\n",
       "count  53940.000000  53940.000000  53940.000000  53940.000000  53940.000000   \n",
       "mean       0.797940     61.749405     57.457184   3932.799722      5.731157   \n",
       "std        0.474011      1.432621      2.234491   3989.439738      1.121761   \n",
       "min        0.200000     43.000000     43.000000    326.000000      0.000000   \n",
       "25%        0.400000     61.000000     56.000000    950.000000      4.710000   \n",
       "50%        0.700000     61.800000     57.000000   2401.000000      5.700000   \n",
       "75%        1.040000     62.500000     59.000000   5324.250000      6.540000   \n",
       "max        5.010000     79.000000     95.000000  18823.000000     10.740000   \n",
       "\n",
       "                  y             z  \n",
       "count  53940.000000  53940.000000  \n",
       "mean       5.734526      3.538734  \n",
       "std        1.142135      0.705699  \n",
       "min        0.000000      0.000000  \n",
       "25%        4.720000      2.910000  \n",
       "50%        5.710000      3.530000  \n",
       "75%        6.540000      4.040000  \n",
       "max       58.900000     31.800000  "
      ]
     },
     "execution_count": 5,
     "metadata": {},
     "output_type": "execute_result"
    }
   ],
   "source": [
    "diamonds.describe()\n",
    "# The minimum values of x,y and z are zero and need to be removed as they account for inconsistent data. Since, there cannot \n",
    "# be a price for a diamond which doesn't have either of the 3 dimensions in real world scenario."
   ]
  },
  {
   "cell_type": "code",
   "execution_count": 124,
   "metadata": {
    "collapsed": true
   },
   "outputs": [],
   "source": [
    "diamonds = diamonds.drop(diamonds[(diamonds.x == 0) & (diamonds.y == 0)].index)\n",
    "diamonds=diamonds.drop(diamonds[diamonds.z == 0].index)\n",
    "#Dropping all the rows which account for zero value in 'x','y' and 'z' columns"
   ]
  },
  {
   "cell_type": "code",
   "execution_count": 125,
   "metadata": {},
   "outputs": [
    {
     "data": {
      "text/html": [
       "<div>\n",
       "<style>\n",
       "    .dataframe thead tr:only-child th {\n",
       "        text-align: right;\n",
       "    }\n",
       "\n",
       "    .dataframe thead th {\n",
       "        text-align: left;\n",
       "    }\n",
       "\n",
       "    .dataframe tbody tr th {\n",
       "        vertical-align: top;\n",
       "    }\n",
       "</style>\n",
       "<table border=\"1\" class=\"dataframe\">\n",
       "  <thead>\n",
       "    <tr style=\"text-align: right;\">\n",
       "      <th></th>\n",
       "      <th>carat</th>\n",
       "      <th>depth</th>\n",
       "      <th>table</th>\n",
       "      <th>price</th>\n",
       "      <th>x</th>\n",
       "      <th>y</th>\n",
       "      <th>z</th>\n",
       "    </tr>\n",
       "  </thead>\n",
       "  <tbody>\n",
       "    <tr>\n",
       "      <th>count</th>\n",
       "      <td>53920.000000</td>\n",
       "      <td>53920.000000</td>\n",
       "      <td>53920.000000</td>\n",
       "      <td>53920.000000</td>\n",
       "      <td>53920.000000</td>\n",
       "      <td>53920.000000</td>\n",
       "      <td>53920.000000</td>\n",
       "    </tr>\n",
       "    <tr>\n",
       "      <th>mean</th>\n",
       "      <td>0.797698</td>\n",
       "      <td>61.749514</td>\n",
       "      <td>57.456834</td>\n",
       "      <td>3930.993231</td>\n",
       "      <td>5.731627</td>\n",
       "      <td>5.734887</td>\n",
       "      <td>3.540046</td>\n",
       "    </tr>\n",
       "    <tr>\n",
       "      <th>std</th>\n",
       "      <td>0.473795</td>\n",
       "      <td>1.432331</td>\n",
       "      <td>2.234064</td>\n",
       "      <td>3987.280446</td>\n",
       "      <td>1.119423</td>\n",
       "      <td>1.140126</td>\n",
       "      <td>0.702530</td>\n",
       "    </tr>\n",
       "    <tr>\n",
       "      <th>min</th>\n",
       "      <td>0.200000</td>\n",
       "      <td>43.000000</td>\n",
       "      <td>43.000000</td>\n",
       "      <td>326.000000</td>\n",
       "      <td>3.730000</td>\n",
       "      <td>3.680000</td>\n",
       "      <td>1.070000</td>\n",
       "    </tr>\n",
       "    <tr>\n",
       "      <th>25%</th>\n",
       "      <td>0.400000</td>\n",
       "      <td>61.000000</td>\n",
       "      <td>56.000000</td>\n",
       "      <td>949.000000</td>\n",
       "      <td>4.710000</td>\n",
       "      <td>4.720000</td>\n",
       "      <td>2.910000</td>\n",
       "    </tr>\n",
       "    <tr>\n",
       "      <th>50%</th>\n",
       "      <td>0.700000</td>\n",
       "      <td>61.800000</td>\n",
       "      <td>57.000000</td>\n",
       "      <td>2401.000000</td>\n",
       "      <td>5.700000</td>\n",
       "      <td>5.710000</td>\n",
       "      <td>3.530000</td>\n",
       "    </tr>\n",
       "    <tr>\n",
       "      <th>75%</th>\n",
       "      <td>1.040000</td>\n",
       "      <td>62.500000</td>\n",
       "      <td>59.000000</td>\n",
       "      <td>5323.250000</td>\n",
       "      <td>6.540000</td>\n",
       "      <td>6.540000</td>\n",
       "      <td>4.040000</td>\n",
       "    </tr>\n",
       "    <tr>\n",
       "      <th>max</th>\n",
       "      <td>5.010000</td>\n",
       "      <td>79.000000</td>\n",
       "      <td>95.000000</td>\n",
       "      <td>18823.000000</td>\n",
       "      <td>10.740000</td>\n",
       "      <td>58.900000</td>\n",
       "      <td>31.800000</td>\n",
       "    </tr>\n",
       "  </tbody>\n",
       "</table>\n",
       "</div>"
      ],
      "text/plain": [
       "              carat         depth         table         price             x  \\\n",
       "count  53920.000000  53920.000000  53920.000000  53920.000000  53920.000000   \n",
       "mean       0.797698     61.749514     57.456834   3930.993231      5.731627   \n",
       "std        0.473795      1.432331      2.234064   3987.280446      1.119423   \n",
       "min        0.200000     43.000000     43.000000    326.000000      3.730000   \n",
       "25%        0.400000     61.000000     56.000000    949.000000      4.710000   \n",
       "50%        0.700000     61.800000     57.000000   2401.000000      5.700000   \n",
       "75%        1.040000     62.500000     59.000000   5323.250000      6.540000   \n",
       "max        5.010000     79.000000     95.000000  18823.000000     10.740000   \n",
       "\n",
       "                  y             z  \n",
       "count  53920.000000  53920.000000  \n",
       "mean       5.734887      3.540046  \n",
       "std        1.140126      0.702530  \n",
       "min        3.680000      1.070000  \n",
       "25%        4.720000      2.910000  \n",
       "50%        5.710000      3.530000  \n",
       "75%        6.540000      4.040000  \n",
       "max       58.900000     31.800000  "
      ]
     },
     "execution_count": 125,
     "metadata": {},
     "output_type": "execute_result"
    }
   ],
   "source": [
    "diamonds.describe()"
   ]
  },
  {
   "cell_type": "code",
   "execution_count": 127,
   "metadata": {},
   "outputs": [
    {
     "data": {
      "text/html": [
       "<div>\n",
       "<style>\n",
       "    .dataframe thead tr:only-child th {\n",
       "        text-align: right;\n",
       "    }\n",
       "\n",
       "    .dataframe thead th {\n",
       "        text-align: left;\n",
       "    }\n",
       "\n",
       "    .dataframe tbody tr th {\n",
       "        vertical-align: top;\n",
       "    }\n",
       "</style>\n",
       "<table border=\"1\" class=\"dataframe\">\n",
       "  <thead>\n",
       "    <tr style=\"text-align: right;\">\n",
       "      <th></th>\n",
       "      <th>carat</th>\n",
       "      <th>cut</th>\n",
       "      <th>color</th>\n",
       "      <th>clarity</th>\n",
       "      <th>depth</th>\n",
       "      <th>table</th>\n",
       "      <th>price</th>\n",
       "      <th>x</th>\n",
       "      <th>y</th>\n",
       "      <th>z</th>\n",
       "    </tr>\n",
       "  </thead>\n",
       "  <tbody>\n",
       "    <tr>\n",
       "      <th>0</th>\n",
       "      <td>0.23</td>\n",
       "      <td>0</td>\n",
       "      <td>0</td>\n",
       "      <td>0</td>\n",
       "      <td>61.5</td>\n",
       "      <td>55.0</td>\n",
       "      <td>326</td>\n",
       "      <td>3.95</td>\n",
       "      <td>3.98</td>\n",
       "      <td>2.43</td>\n",
       "    </tr>\n",
       "    <tr>\n",
       "      <th>1</th>\n",
       "      <td>0.21</td>\n",
       "      <td>1</td>\n",
       "      <td>0</td>\n",
       "      <td>1</td>\n",
       "      <td>59.8</td>\n",
       "      <td>61.0</td>\n",
       "      <td>326</td>\n",
       "      <td>3.89</td>\n",
       "      <td>3.84</td>\n",
       "      <td>2.31</td>\n",
       "    </tr>\n",
       "    <tr>\n",
       "      <th>2</th>\n",
       "      <td>0.23</td>\n",
       "      <td>2</td>\n",
       "      <td>0</td>\n",
       "      <td>2</td>\n",
       "      <td>56.9</td>\n",
       "      <td>65.0</td>\n",
       "      <td>327</td>\n",
       "      <td>4.05</td>\n",
       "      <td>4.07</td>\n",
       "      <td>2.31</td>\n",
       "    </tr>\n",
       "  </tbody>\n",
       "</table>\n",
       "</div>"
      ],
      "text/plain": [
       "   carat  cut  color  clarity  depth  table  price     x     y     z\n",
       "0   0.23    0      0        0   61.5   55.0    326  3.95  3.98  2.43\n",
       "1   0.21    1      0        1   59.8   61.0    326  3.89  3.84  2.31\n",
       "2   0.23    2      0        2   56.9   65.0    327  4.05  4.07  2.31"
      ]
     },
     "execution_count": 127,
     "metadata": {},
     "output_type": "execute_result"
    }
   ],
   "source": [
    "# encode cut, color and clarity\n",
    "categorical_cols = ['cut', 'color', 'clarity']\n",
    "for c in categorical_cols:\n",
    "    diamonds[c] = pd.factorize(diamonds[c])[0]\n",
    "diamonds.head(3)\n",
    "#Since the values of 'cut,'color' and 'clarity' are String values, they are being converted to numerical values to check how\n",
    "# co-related they are to the price of the diamond."
   ]
  },
  {
   "cell_type": "code",
   "execution_count": 128,
   "metadata": {},
   "outputs": [
    {
     "data": {
      "text/html": [
       "<div>\n",
       "<style>\n",
       "    .dataframe thead tr:only-child th {\n",
       "        text-align: right;\n",
       "    }\n",
       "\n",
       "    .dataframe thead th {\n",
       "        text-align: left;\n",
       "    }\n",
       "\n",
       "    .dataframe tbody tr th {\n",
       "        vertical-align: top;\n",
       "    }\n",
       "</style>\n",
       "<table border=\"1\" class=\"dataframe\">\n",
       "  <thead>\n",
       "    <tr style=\"text-align: right;\">\n",
       "      <th></th>\n",
       "      <th>carat</th>\n",
       "      <th>cut</th>\n",
       "      <th>color</th>\n",
       "      <th>clarity</th>\n",
       "      <th>depth</th>\n",
       "      <th>table</th>\n",
       "      <th>price</th>\n",
       "      <th>x</th>\n",
       "      <th>y</th>\n",
       "      <th>z</th>\n",
       "    </tr>\n",
       "  </thead>\n",
       "  <tbody>\n",
       "    <tr>\n",
       "      <th>carat</th>\n",
       "      <td>1.000000</td>\n",
       "      <td>0.114524</td>\n",
       "      <td>-0.065554</td>\n",
       "      <td>-0.281287</td>\n",
       "      <td>0.028259</td>\n",
       "      <td>0.181646</td>\n",
       "      <td>0.921592</td>\n",
       "      <td>0.977779</td>\n",
       "      <td>0.953991</td>\n",
       "      <td>0.961048</td>\n",
       "    </tr>\n",
       "    <tr>\n",
       "      <th>cut</th>\n",
       "      <td>0.114524</td>\n",
       "      <td>1.000000</td>\n",
       "      <td>-0.029148</td>\n",
       "      <td>-0.118717</td>\n",
       "      <td>0.169970</td>\n",
       "      <td>0.381969</td>\n",
       "      <td>0.049507</td>\n",
       "      <td>0.105866</td>\n",
       "      <td>0.105889</td>\n",
       "      <td>0.127440</td>\n",
       "    </tr>\n",
       "    <tr>\n",
       "      <th>color</th>\n",
       "      <td>-0.065554</td>\n",
       "      <td>-0.029148</td>\n",
       "      <td>1.000000</td>\n",
       "      <td>0.032568</td>\n",
       "      <td>-0.001636</td>\n",
       "      <td>-0.034140</td>\n",
       "      <td>-0.016675</td>\n",
       "      <td>-0.055067</td>\n",
       "      <td>-0.054587</td>\n",
       "      <td>-0.055153</td>\n",
       "    </tr>\n",
       "    <tr>\n",
       "      <th>clarity</th>\n",
       "      <td>-0.281287</td>\n",
       "      <td>-0.118717</td>\n",
       "      <td>0.032568</td>\n",
       "      <td>1.000000</td>\n",
       "      <td>-0.025823</td>\n",
       "      <td>-0.133710</td>\n",
       "      <td>-0.140249</td>\n",
       "      <td>-0.306878</td>\n",
       "      <td>-0.297735</td>\n",
       "      <td>-0.301792</td>\n",
       "    </tr>\n",
       "    <tr>\n",
       "      <th>depth</th>\n",
       "      <td>0.028259</td>\n",
       "      <td>0.169970</td>\n",
       "      <td>-0.001636</td>\n",
       "      <td>-0.025823</td>\n",
       "      <td>1.000000</td>\n",
       "      <td>-0.295733</td>\n",
       "      <td>-0.010729</td>\n",
       "      <td>-0.025017</td>\n",
       "      <td>-0.029069</td>\n",
       "      <td>0.095023</td>\n",
       "    </tr>\n",
       "    <tr>\n",
       "      <th>table</th>\n",
       "      <td>0.181646</td>\n",
       "      <td>0.381969</td>\n",
       "      <td>-0.034140</td>\n",
       "      <td>-0.133710</td>\n",
       "      <td>-0.295733</td>\n",
       "      <td>1.000000</td>\n",
       "      <td>0.127245</td>\n",
       "      <td>0.196097</td>\n",
       "      <td>0.184493</td>\n",
       "      <td>0.152483</td>\n",
       "    </tr>\n",
       "    <tr>\n",
       "      <th>price</th>\n",
       "      <td>0.921592</td>\n",
       "      <td>0.049507</td>\n",
       "      <td>-0.016675</td>\n",
       "      <td>-0.140249</td>\n",
       "      <td>-0.010729</td>\n",
       "      <td>0.127245</td>\n",
       "      <td>1.000000</td>\n",
       "      <td>0.887231</td>\n",
       "      <td>0.867864</td>\n",
       "      <td>0.868206</td>\n",
       "    </tr>\n",
       "    <tr>\n",
       "      <th>x</th>\n",
       "      <td>0.977779</td>\n",
       "      <td>0.105866</td>\n",
       "      <td>-0.055067</td>\n",
       "      <td>-0.306878</td>\n",
       "      <td>-0.025017</td>\n",
       "      <td>0.196097</td>\n",
       "      <td>0.887231</td>\n",
       "      <td>1.000000</td>\n",
       "      <td>0.974918</td>\n",
       "      <td>0.975435</td>\n",
       "    </tr>\n",
       "    <tr>\n",
       "      <th>y</th>\n",
       "      <td>0.953991</td>\n",
       "      <td>0.105889</td>\n",
       "      <td>-0.054587</td>\n",
       "      <td>-0.297735</td>\n",
       "      <td>-0.029069</td>\n",
       "      <td>0.184493</td>\n",
       "      <td>0.867864</td>\n",
       "      <td>0.974918</td>\n",
       "      <td>1.000000</td>\n",
       "      <td>0.956744</td>\n",
       "    </tr>\n",
       "    <tr>\n",
       "      <th>z</th>\n",
       "      <td>0.961048</td>\n",
       "      <td>0.127440</td>\n",
       "      <td>-0.055153</td>\n",
       "      <td>-0.301792</td>\n",
       "      <td>0.095023</td>\n",
       "      <td>0.152483</td>\n",
       "      <td>0.868206</td>\n",
       "      <td>0.975435</td>\n",
       "      <td>0.956744</td>\n",
       "      <td>1.000000</td>\n",
       "    </tr>\n",
       "  </tbody>\n",
       "</table>\n",
       "</div>"
      ],
      "text/plain": [
       "            carat       cut     color   clarity     depth     table     price  \\\n",
       "carat    1.000000  0.114524 -0.065554 -0.281287  0.028259  0.181646  0.921592   \n",
       "cut      0.114524  1.000000 -0.029148 -0.118717  0.169970  0.381969  0.049507   \n",
       "color   -0.065554 -0.029148  1.000000  0.032568 -0.001636 -0.034140 -0.016675   \n",
       "clarity -0.281287 -0.118717  0.032568  1.000000 -0.025823 -0.133710 -0.140249   \n",
       "depth    0.028259  0.169970 -0.001636 -0.025823  1.000000 -0.295733 -0.010729   \n",
       "table    0.181646  0.381969 -0.034140 -0.133710 -0.295733  1.000000  0.127245   \n",
       "price    0.921592  0.049507 -0.016675 -0.140249 -0.010729  0.127245  1.000000   \n",
       "x        0.977779  0.105866 -0.055067 -0.306878 -0.025017  0.196097  0.887231   \n",
       "y        0.953991  0.105889 -0.054587 -0.297735 -0.029069  0.184493  0.867864   \n",
       "z        0.961048  0.127440 -0.055153 -0.301792  0.095023  0.152483  0.868206   \n",
       "\n",
       "                x         y         z  \n",
       "carat    0.977779  0.953991  0.961048  \n",
       "cut      0.105866  0.105889  0.127440  \n",
       "color   -0.055067 -0.054587 -0.055153  \n",
       "clarity -0.306878 -0.297735 -0.301792  \n",
       "depth   -0.025017 -0.029069  0.095023  \n",
       "table    0.196097  0.184493  0.152483  \n",
       "price    0.887231  0.867864  0.868206  \n",
       "x        1.000000  0.974918  0.975435  \n",
       "y        0.974918  1.000000  0.956744  \n",
       "z        0.975435  0.956744  1.000000  "
      ]
     },
     "execution_count": 128,
     "metadata": {},
     "output_type": "execute_result"
    }
   ],
   "source": [
    "diamonds.corr()\n",
    "# Looking at the below chart, we can infer that there are 4 values which are highly co-related to the price of a diamond  amongst\n",
    "# any other value. We explore 'x','y','z','carat' to see whether they have a linear relationship with the price for them to be \n",
    "# chosen as independent variables for linear regression.\n",
    "# Note: 'x,'y' and 'z' are very nearly co-related so we will have to infer whether all three variables are required are not using\n",
    "# VIF which has been explained below."
   ]
  },
  {
   "cell_type": "code",
   "execution_count": 228,
   "metadata": {
    "collapsed": true
   },
   "outputs": [],
   "source": [
    "#Plotting a scatter plot to observe whether the relationship between price and length of diamonds in mm is linear or not. The\n",
    "# relationship looks linear as with an increase in the size of the diamond, the price also increases."
   ]
  },
  {
   "cell_type": "code",
   "execution_count": 16,
   "metadata": {},
   "outputs": [
    {
     "data": {
      "image/png": "[encoded data removed]",
      "text/plain": [
       "<matplotlib.figure.Figure at 0x272d862fba8>"
      ]
     },
     "metadata": {},
     "output_type": "display_data"
    }
   ],
   "source": [
    "plt.scatter(X,y)\n",
    "plt.ylabel('price')\n",
    "plt.xlabel('x (length of diamond in mm)')\n",
    "plt.show()"
   ]
  },
  {
   "cell_type": "code",
   "execution_count": 130,
   "metadata": {},
   "outputs": [
    {
     "data": {
      "image/png": "[encoded data removed]",
      "text/plain": [
       "<matplotlib.figure.Figure at 0x272dbf2cac8>"
      ]
     },
     "metadata": {},
     "output_type": "display_data"
    }
   ],
   "source": [
    "X=diamonds['y']\n",
    "y=diamonds['price']\n",
    "plt.scatter(X,y)\n",
    "plt.ylabel('price')\n",
    "plt.xlabel('y (width of diamond in mm)')\n",
    "plt.show()\n",
    "# The relationship isn't nearly linear as x but that is mainly because 'y' does not have a much wide spread range of values \n",
    "# as 'x'."
   ]
  },
  {
   "cell_type": "code",
   "execution_count": 131,
   "metadata": {},
   "outputs": [
    {
     "data": {
      "image/png": "[encoded data removed]",
      "text/plain": [
       "<matplotlib.figure.Figure at 0x272dc129358>"
      ]
     },
     "metadata": {},
     "output_type": "display_data"
    }
   ],
   "source": [
    "X=diamonds['z']\n",
    "y=diamonds['price']\n",
    "plt.scatter(X,y)\n",
    "plt.ylabel('price')\n",
    "plt.xlabel('y (width of diamond in mm)')\n",
    "plt.show()\n",
    "# Similar for the column 'z', the relationship is linear but the spread of values is limited around a particular range due \n",
    "# to which the area under the curve is not that much.\n"
   ]
  },
  {
   "cell_type": "code",
   "execution_count": 132,
   "metadata": {},
   "outputs": [
    {
     "data": {
      "image/png": "[encoded data removed]",
      "text/plain": [
       "<matplotlib.figure.Figure at 0x272dc083470>"
      ]
     },
     "metadata": {},
     "output_type": "display_data"
    }
   ],
   "source": [
    "X=diamonds['carat']\n",
    "y=diamonds['price']\n",
    "plt.scatter(X,y)\n",
    "plt.ylabel('price')\n",
    "plt.xlabel('y (width of diamond in mm)')\n",
    "plt.show()\n",
    "# 'carat' also definitely looks like a prime candidate for being included in the regression as it has a much dense relationship\n",
    "# with the price of the diamond."
   ]
  },
  {
   "cell_type": "code",
   "execution_count": null,
   "metadata": {
    "collapsed": true
   },
   "outputs": [],
   "source": [
    "# regression is of the type y=ax + b where y is the target feature, x is the single feature, a and b are parameters of the model\n",
    "# which we want to fit. Question gets reduced to how do we choose a and b."
   ]
  },
  {
   "cell_type": "markdown",
   "metadata": {},
   "source": [
    "# Looking at the above table, columns 'x','y','z','carat' are positively co-related to the 'price' of the diamond."
   ]
  },
  {
   "cell_type": "code",
   "execution_count": 202,
   "metadata": {
    "collapsed": true
   },
   "outputs": [],
   "source": [
    "X = diamonds[[\"x\",\"y\",\"z\",\"carat\"]]\n",
    "y = diamonds[[\"price\"]]"
   ]
  },
  {
   "cell_type": "code",
   "execution_count": 203,
   "metadata": {},
   "outputs": [
    {
     "name": "stdout",
     "output_type": "stream",
     "text": [
      "<class 'pandas.core.frame.DataFrame'> <class 'pandas.core.frame.DataFrame'>\n"
     ]
    }
   ],
   "source": [
    "print(type(X), type(y))"
   ]
  },
  {
   "cell_type": "code",
   "execution_count": 204,
   "metadata": {},
   "outputs": [
    {
     "name": "stdout",
     "output_type": "stream",
     "text": [
      "LinearRegression(copy_X=True, fit_intercept=True, n_jobs=1, normalize=False)\n"
     ]
    }
   ],
   "source": [
    "# Fit the linear model\n",
    "model = linear_model.LinearRegression()\n",
    "results = model.fit(X, y)\n",
    "print(results)\n"
   ]
  },
  {
   "cell_type": "code",
   "execution_count": 207,
   "metadata": {},
   "outputs": [
    {
     "name": "stdout",
     "output_type": "stream",
     "text": [
      "[ 2425.35155013] [[  -916.49692763    194.75946718   -781.13447738  10539.05876416]]\n"
     ]
    }
   ],
   "source": [
    "# Print the coefficients\n",
    "print (results.intercept_, results.coef_)"
   ]
  },
  {
   "cell_type": "code",
   "execution_count": 208,
   "metadata": {},
   "outputs": [
    {
     "data": {
      "text/html": [
       "<table class=\"simpletable\">\n",
       "<caption>OLS Regression Results</caption>\n",
       "<tr>\n",
       "  <th>Dep. Variable:</th>          <td>price</td>      <th>  R-squared:         </th>  <td>   0.926</td>  \n",
       "</tr>\n",
       "<tr>\n",
       "  <th>Model:</th>                   <td>OLS</td>       <th>  Adj. R-squared:    </th>  <td>   0.926</td>  \n",
       "</tr>\n",
       "<tr>\n",
       "  <th>Method:</th>             <td>Least Squares</td>  <th>  F-statistic:       </th>  <td>1.678e+05</td> \n",
       "</tr>\n",
       "<tr>\n",
       "  <th>Date:</th>             <td>Wed, 08 Nov 2017</td> <th>  Prob (F-statistic):</th>   <td>  0.00</td>   \n",
       "</tr>\n",
       "<tr>\n",
       "  <th>Time:</th>                 <td>14:44:18</td>     <th>  Log-Likelihood:    </th> <td>-4.7179e+05</td>\n",
       "</tr>\n",
       "<tr>\n",
       "  <th>No. Observations:</th>      <td> 53920</td>      <th>  AIC:               </th>  <td>9.436e+05</td> \n",
       "</tr>\n",
       "<tr>\n",
       "  <th>Df Residuals:</th>          <td> 53916</td>      <th>  BIC:               </th>  <td>9.436e+05</td> \n",
       "</tr>\n",
       "<tr>\n",
       "  <th>Df Model:</th>              <td>     4</td>      <th>                     </th>      <td> </td>     \n",
       "</tr>\n",
       "<tr>\n",
       "  <th>Covariance Type:</th>      <td>nonrobust</td>    <th>                     </th>      <td> </td>     \n",
       "</tr>\n",
       "</table>\n",
       "<table class=\"simpletable\">\n",
       "<tr>\n",
       "    <td></td>       <th>coef</th>     <th>std err</th>      <th>t</th>      <th>P>|t|</th>  <th>[0.025</th>    <th>0.975]</th>  \n",
       "</tr>\n",
       "<tr>\n",
       "  <th>x</th>     <td> -398.1844</td> <td>   35.025</td> <td>  -11.369</td> <td> 0.000</td> <td> -466.834</td> <td> -329.535</td>\n",
       "</tr>\n",
       "<tr>\n",
       "  <th>y</th>     <td>  198.2386</td> <td>   26.093</td> <td>    7.597</td> <td> 0.000</td> <td>  147.096</td> <td>  249.381</td>\n",
       "</tr>\n",
       "<tr>\n",
       "  <th>z</th>     <td> -629.8323</td> <td>   42.763</td> <td>  -14.728</td> <td> 0.000</td> <td> -713.648</td> <td> -546.016</td>\n",
       "</tr>\n",
       "<tr>\n",
       "  <th>carat</th> <td> 9148.2149</td> <td>   20.706</td> <td>  441.812</td> <td> 0.000</td> <td> 9107.631</td> <td> 9188.799</td>\n",
       "</tr>\n",
       "</table>\n",
       "<table class=\"simpletable\">\n",
       "<tr>\n",
       "  <th>Omnibus:</th>       <td>14501.339</td> <th>  Durbin-Watson:     </th>  <td>   1.112</td> \n",
       "</tr>\n",
       "<tr>\n",
       "  <th>Prob(Omnibus):</th>  <td> 0.000</td>   <th>  Jarque-Bera (JB):  </th> <td>248472.008</td>\n",
       "</tr>\n",
       "<tr>\n",
       "  <th>Skew:</th>           <td> 0.848</td>   <th>  Prob(JB):          </th>  <td>    0.00</td> \n",
       "</tr>\n",
       "<tr>\n",
       "  <th>Kurtosis:</th>       <td>13.379</td>   <th>  Cond. No.          </th>  <td>    70.3</td> \n",
       "</tr>\n",
       "</table>"
      ],
      "text/plain": [
       "<class 'statsmodels.iolib.summary.Summary'>\n",
       "\"\"\"\n",
       "                            OLS Regression Results                            \n",
       "==============================================================================\n",
       "Dep. Variable:                  price   R-squared:                       0.926\n",
       "Model:                            OLS   Adj. R-squared:                  0.926\n",
       "Method:                 Least Squares   F-statistic:                 1.678e+05\n",
       "Date:                Wed, 08 Nov 2017   Prob (F-statistic):               0.00\n",
       "Time:                        14:44:18   Log-Likelihood:            -4.7179e+05\n",
       "No. Observations:               53920   AIC:                         9.436e+05\n",
       "Df Residuals:                   53916   BIC:                         9.436e+05\n",
       "Df Model:                           4                                         \n",
       "Covariance Type:            nonrobust                                         \n",
       "==============================================================================\n",
       "                 coef    std err          t      P>|t|      [0.025      0.975]\n",
       "------------------------------------------------------------------------------\n",
       "x           -398.1844     35.025    -11.369      0.000    -466.834    -329.535\n",
       "y            198.2386     26.093      7.597      0.000     147.096     249.381\n",
       "z           -629.8323     42.763    -14.728      0.000    -713.648    -546.016\n",
       "carat       9148.2149     20.706    441.812      0.000    9107.631    9188.799\n",
       "==============================================================================\n",
       "Omnibus:                    14501.339   Durbin-Watson:                   1.112\n",
       "Prob(Omnibus):                  0.000   Jarque-Bera (JB):           248472.008\n",
       "Skew:                           0.848   Prob(JB):                         0.00\n",
       "Kurtosis:                      13.379   Cond. No.                         70.3\n",
       "==============================================================================\n",
       "\n",
       "Warnings:\n",
       "[1] Standard Errors assume that the covariance matrix of the errors is correctly specified.\n",
       "\"\"\""
      ]
     },
     "execution_count": 208,
     "metadata": {},
     "output_type": "execute_result"
    }
   ],
   "source": [
    "model = sm.OLS(y, X)\n",
    "results = model.fit()\n",
    "# Statsmodels gives R-like statistical output\n",
    "results.summary()\n",
    "# Here the Ordinalry Least Squares method has given us the r^2 value of 0.926 which is decent enough for our model to be \n",
    "# predicted on these variables."
   ]
  },
  {
   "cell_type": "code",
   "execution_count": 209,
   "metadata": {},
   "outputs": [
    {
     "name": "stdout",
     "output_type": "stream",
     "text": [
      "[ -210.24164609  -321.48841584  -156.63873761 ...,  3033.81922508\n",
      "  4276.27843728  3410.81737891]\n"
     ]
    }
   ],
   "source": [
    "#Predicting without splitting the dataset into test and train.\n",
    "ypred=results.predict()\n",
    "print(ypred)"
   ]
  },
  {
   "cell_type": "code",
   "execution_count": 210,
   "metadata": {},
   "outputs": [
    {
     "data": {
      "image/png": "[encoded data removed]",
      "text/plain": [
       "<matplotlib.figure.Figure at 0x272dbf500b8>"
      ]
     },
     "metadata": {},
     "output_type": "display_data"
    }
   ],
   "source": [
    "plt.scatter(y, ypred , color='blue')\n",
    "plt.xlabel(\"Prices of Diamonds: pd\")\n",
    "plt.ylabel(\"Predicted prices of Diamonds :ppd\")\n",
    "plt.show()\n",
    "# As we can see in this graph, the highest price of the diamond in the dataset is > 17500 and the predicted price is largely \n",
    "# scattered over the 10000-20000 range with a few outliers on the >20000. "
   ]
  },
  {
   "cell_type": "code",
   "execution_count": 211,
   "metadata": {},
   "outputs": [
    {
     "name": "stdout",
     "output_type": "stream",
     "text": [
      "1526.7246179\n"
     ]
    }
   ],
   "source": [
    "#Calculating the root mean squared error of the fit regression line based on independent variables 'x','y','z','carat'\n",
    "rmseFull = np.sqrt(metrics.mean_squared_error(y, ypred))\n",
    "print(rmseFull)"
   ]
  },
  {
   "cell_type": "code",
   "execution_count": 212,
   "metadata": {},
   "outputs": [
    {
     "name": "stdout",
     "output_type": "stream",
     "text": [
      "price    0.388381\n",
      "dtype: float64\n"
     ]
    }
   ],
   "source": [
    "y_m=np.mean(y)\n",
    "print(rmseFull/y_m)\n",
    "# The mean squared error is divided with the mean to calculate the coefficient of variation between the actual and the residual\n",
    "# values. It is just a root mean squared value which helps us to normalize the rsme around the mean. \n"
   ]
  },
  {
   "cell_type": "code",
   "execution_count": 206,
   "metadata": {},
   "outputs": [
    {
     "data": {
      "text/plain": [
       "0.85467980469069782"
      ]
     },
     "execution_count": 206,
     "metadata": {},
     "output_type": "execute_result"
    }
   ],
   "source": [
    "results.score(X,y)\n",
    "#The score of the model is the explained variance of the predictions."
   ]
  },
  {
   "cell_type": "markdown",
   "metadata": {},
   "source": [
    "# Checking for VIF for eliminating multicollinearity and overfitting"
   ]
  },
  {
   "cell_type": "code",
   "execution_count": 213,
   "metadata": {
    "collapsed": true
   },
   "outputs": [],
   "source": [
    "#Implementing VIF (Variance Inflation Factor) to check whether the selected independent variables are correct for prediction \n",
    "# or not. Also, 'x', 'y' and 'z' had very close levels of co-relation with price which makes us to investigate whether all \n",
    "# three are important or not.\n",
    "indep=['x','y','z','carat']\n",
    "X=diamonds[indep]"
   ]
  },
  {
   "cell_type": "code",
   "execution_count": 214,
   "metadata": {},
   "outputs": [
    {
     "name": "stdout",
     "output_type": "stream",
     "text": [
      "vif : [967.7685662415148, 538.43498364820869, 550.97276070002886, 8.5368247422712979]\n",
      "x\n",
      "Final variables:  ['y', 'z', 'carat']\n",
      "vif : [305.48530956218264, 308.36909755631012, 8.4559776382625174]\n",
      "z\n",
      "Final variables:  ['y', 'carat']\n"
     ]
    }
   ],
   "source": [
    "thresh=10 #Setting a threshold of 10 as a sign of serious and sever multi-collinearity\n",
    "for i in np.arange(0,len(indep)):\n",
    "    vif=[variance_inflation_factor(X[indep].values,ix)\n",
    "    for ix in range(X[indep].shape[1])]\n",
    "    maxloc=vif.index(max(vif))\n",
    "    if max(vif) > thresh:\n",
    "        print (\"vif :\", vif)\n",
    "        print( X[indep].columns[maxloc] )\n",
    "        del indep[maxloc]\n",
    "    else:\n",
    "        break\n",
    "        \n",
    "    print ('Final variables: ', indep)"
   ]
  },
  {
   "cell_type": "code",
   "execution_count": 186,
   "metadata": {},
   "outputs": [
    {
     "data": {
      "text/html": [
       "<div>\n",
       "<style>\n",
       "    .dataframe thead tr:only-child th {\n",
       "        text-align: right;\n",
       "    }\n",
       "\n",
       "    .dataframe thead th {\n",
       "        text-align: left;\n",
       "    }\n",
       "\n",
       "    .dataframe tbody tr th {\n",
       "        vertical-align: top;\n",
       "    }\n",
       "</style>\n",
       "<table border=\"1\" class=\"dataframe\">\n",
       "  <thead>\n",
       "    <tr style=\"text-align: right;\">\n",
       "      <th></th>\n",
       "      <th>y</th>\n",
       "      <th>carat</th>\n",
       "    </tr>\n",
       "  </thead>\n",
       "  <tbody>\n",
       "    <tr>\n",
       "      <th>0</th>\n",
       "      <td>3.98</td>\n",
       "      <td>0.23</td>\n",
       "    </tr>\n",
       "    <tr>\n",
       "      <th>1</th>\n",
       "      <td>3.84</td>\n",
       "      <td>0.21</td>\n",
       "    </tr>\n",
       "    <tr>\n",
       "      <th>2</th>\n",
       "      <td>4.07</td>\n",
       "      <td>0.23</td>\n",
       "    </tr>\n",
       "    <tr>\n",
       "      <th>3</th>\n",
       "      <td>4.23</td>\n",
       "      <td>0.29</td>\n",
       "    </tr>\n",
       "    <tr>\n",
       "      <th>4</th>\n",
       "      <td>4.35</td>\n",
       "      <td>0.31</td>\n",
       "    </tr>\n",
       "  </tbody>\n",
       "</table>\n",
       "</div>"
      ],
      "text/plain": [
       "      y  carat\n",
       "0  3.98   0.23\n",
       "1  3.84   0.21\n",
       "2  4.07   0.23\n",
       "3  4.23   0.29\n",
       "4  4.35   0.31"
      ]
     },
     "execution_count": 186,
     "metadata": {},
     "output_type": "execute_result"
    }
   ],
   "source": [
    "X[indep].head(5)\n",
    "# After performing VIF on the chosen variables, we see that the VIF for 'x' and 'z' surpass the threshold of 10 and leaves us \n",
    "# only 'carat' and 'y'. This selection is somewhat in sync with the OLS table where a unit increase in 'carat' and 'y' (width)\n",
    "# of the diamond results in the increase in price of the diamond. Whereas, 'x' and 'z' result in the decrease in the price of the\n",
    "# diamond."
   ]
  },
  {
   "cell_type": "markdown",
   "metadata": {},
   "source": [
    "# Fitting a model based on multiple parameter ('y','carat')"
   ]
  },
  {
   "cell_type": "code",
   "execution_count": 231,
   "metadata": {
    "collapsed": true
   },
   "outputs": [],
   "source": [
    "X=diamonds[[\"y\",\"carat\"]]\n",
    "y=diamonds[[\"price\"]]"
   ]
  },
  {
   "cell_type": "code",
   "execution_count": 235,
   "metadata": {},
   "outputs": [
    {
     "data": {
      "text/html": [
       "<table class=\"simpletable\">\n",
       "<caption>OLS Regression Results</caption>\n",
       "<tr>\n",
       "  <th>Dep. Variable:</th>          <td>price</td>      <th>  R-squared:         </th>  <td>   0.924</td>  \n",
       "</tr>\n",
       "<tr>\n",
       "  <th>Model:</th>                   <td>OLS</td>       <th>  Adj. R-squared:    </th>  <td>   0.924</td>  \n",
       "</tr>\n",
       "<tr>\n",
       "  <th>Method:</th>             <td>Least Squares</td>  <th>  F-statistic:       </th>  <td>3.289e+05</td> \n",
       "</tr>\n",
       "<tr>\n",
       "  <th>Date:</th>             <td>Wed, 08 Nov 2017</td> <th>  Prob (F-statistic):</th>   <td>  0.00</td>   \n",
       "</tr>\n",
       "<tr>\n",
       "  <th>Time:</th>                 <td>15:43:08</td>     <th>  Log-Likelihood:    </th> <td>-4.7229e+05</td>\n",
       "</tr>\n",
       "<tr>\n",
       "  <th>No. Observations:</th>      <td> 53920</td>      <th>  AIC:               </th>  <td>9.446e+05</td> \n",
       "</tr>\n",
       "<tr>\n",
       "  <th>Df Residuals:</th>          <td> 53918</td>      <th>  BIC:               </th>  <td>9.446e+05</td> \n",
       "</tr>\n",
       "<tr>\n",
       "  <th>Df Model:</th>              <td>     2</td>      <th>                     </th>      <td> </td>     \n",
       "</tr>\n",
       "<tr>\n",
       "  <th>Covariance Type:</th>      <td>nonrobust</td>    <th>                     </th>      <td> </td>     \n",
       "</tr>\n",
       "</table>\n",
       "<table class=\"simpletable\">\n",
       "<tr>\n",
       "    <td></td>       <th>coef</th>     <th>std err</th>      <th>t</th>      <th>P>|t|</th>  <th>[0.025</th>    <th>0.975]</th>  \n",
       "</tr>\n",
       "<tr>\n",
       "  <th>y</th>     <td> -573.9402</td> <td>    3.281</td> <td> -174.912</td> <td> 0.000</td> <td> -580.372</td> <td> -567.509</td>\n",
       "</tr>\n",
       "<tr>\n",
       "  <th>carat</th> <td> 9059.1487</td> <td>   20.679</td> <td>  438.077</td> <td> 0.000</td> <td> 9018.617</td> <td> 9099.680</td>\n",
       "</tr>\n",
       "</table>\n",
       "<table class=\"simpletable\">\n",
       "<tr>\n",
       "  <th>Omnibus:</th>       <td>16356.664</td> <th>  Durbin-Watson:     </th>  <td>   1.103</td> \n",
       "</tr>\n",
       "<tr>\n",
       "  <th>Prob(Omnibus):</th>  <td> 0.000</td>   <th>  Jarque-Bera (JB):  </th> <td>329860.554</td>\n",
       "</tr>\n",
       "<tr>\n",
       "  <th>Skew:</th>           <td> 0.964</td>   <th>  Prob(JB):          </th>  <td>    0.00</td> \n",
       "</tr>\n",
       "<tr>\n",
       "  <th>Kurtosis:</th>       <td>14.963</td>   <th>  Cond. No.          </th>  <td>    18.6</td> \n",
       "</tr>\n",
       "</table>"
      ],
      "text/plain": [
       "<class 'statsmodels.iolib.summary.Summary'>\n",
       "\"\"\"\n",
       "                            OLS Regression Results                            \n",
       "==============================================================================\n",
       "Dep. Variable:                  price   R-squared:                       0.924\n",
       "Model:                            OLS   Adj. R-squared:                  0.924\n",
       "Method:                 Least Squares   F-statistic:                 3.289e+05\n",
       "Date:                Wed, 08 Nov 2017   Prob (F-statistic):               0.00\n",
       "Time:                        15:43:08   Log-Likelihood:            -4.7229e+05\n",
       "No. Observations:               53920   AIC:                         9.446e+05\n",
       "Df Residuals:                   53918   BIC:                         9.446e+05\n",
       "Df Model:                           2                                         \n",
       "Covariance Type:            nonrobust                                         \n",
       "==============================================================================\n",
       "                 coef    std err          t      P>|t|      [0.025      0.975]\n",
       "------------------------------------------------------------------------------\n",
       "y           -573.9402      3.281   -174.912      0.000    -580.372    -567.509\n",
       "carat       9059.1487     20.679    438.077      0.000    9018.617    9099.680\n",
       "==============================================================================\n",
       "Omnibus:                    16356.664   Durbin-Watson:                   1.103\n",
       "Prob(Omnibus):                  0.000   Jarque-Bera (JB):           329860.554\n",
       "Skew:                           0.964   Prob(JB):                         0.00\n",
       "Kurtosis:                      14.963   Cond. No.                         18.6\n",
       "==============================================================================\n",
       "\n",
       "Warnings:\n",
       "[1] Standard Errors assume that the covariance matrix of the errors is correctly specified.\n",
       "\"\"\""
      ]
     },
     "execution_count": 235,
     "metadata": {},
     "output_type": "execute_result"
    }
   ],
   "source": [
    "model = sm.OLS(y, X)\n",
    "results = model.fit()\n",
    "# Statsmodels gives R-like statistical output\n",
    "results.summary()"
   ]
  },
  {
   "cell_type": "code",
   "execution_count": 234,
   "metadata": {},
   "outputs": [
    {
     "name": "stdout",
     "output_type": "stream",
     "text": [
      "0.855848511224\n",
      "0.848616532311\n"
     ]
    }
   ],
   "source": [
    "model = linear_model.LinearRegression()\n",
    "results = model.fit(X_train, y_train)\n",
    "pred_train=results.predict(X_train)\n",
    "pred_test=results.predict(X_test)\n",
    "print(results.score(X_test,y_test))\n",
    "print(results.score(X_train,y_train))"
   ]
  },
  {
   "cell_type": "code",
   "execution_count": 227,
   "metadata": {},
   "outputs": [
    {
     "name": "stdout",
     "output_type": "stream",
     "text": [
      "[-674.4209438] [[ -403.74305383  8681.52720734]]\n"
     ]
    }
   ],
   "source": [
    "# Print the coefficients\n",
    "print (results.intercept_, results.coef_)"
   ]
  },
  {
   "cell_type": "code",
   "execution_count": 229,
   "metadata": {},
   "outputs": [
    {
     "name": "stdout",
     "output_type": "stream",
     "text": [
      "[[  506.89553115]\n",
      " [  202.01694801]\n",
      " [  260.57020631]\n",
      " ..., \n",
      " [  876.3730029 ]\n",
      " [ 4704.38292821]\n",
      " [ 7088.81164157]]\n"
     ]
    }
   ],
   "source": [
    "#Predicting training set for price column \n",
    "\n",
    "print(pred_train)"
   ]
  },
  {
   "cell_type": "code",
   "execution_count": 230,
   "metadata": {},
   "outputs": [
    {
     "name": "stdout",
     "output_type": "stream",
     "text": [
      "[[  244.42048416]\n",
      " [ 7690.47291578]\n",
      " [ 9586.28841001]\n",
      " ..., \n",
      " [ 3914.97061847]\n",
      " [  264.60763685]\n",
      " [ 3777.67694917]]\n"
     ]
    }
   ],
   "source": [
    "#Predicting testing set for price column\n",
    "print(pred_test)"
   ]
  },
  {
   "cell_type": "code",
   "execution_count": 219,
   "metadata": {},
   "outputs": [
    {
     "name": "stdout",
     "output_type": "stream",
     "text": [
      "1557.66032481\n",
      "1499.35226989\n"
     ]
    }
   ],
   "source": [
    "rmsetrain = np.sqrt(metrics.mean_squared_error(y_train, pred_train))\n",
    "print(rmsetrain)\n",
    "rmsetest = np.sqrt(metrics.mean_squared_error(y_test, pred_test))\n",
    "print(rmsetest)\n",
    "#Even the rmse's do not vary much."
   ]
  },
  {
   "cell_type": "code",
   "execution_count": 165,
   "metadata": {},
   "outputs": [
    {
     "name": "stdout",
     "output_type": "stream",
     "text": [
      "price    3930.993231\n",
      "dtype: float64\n",
      "price    0.396251\n",
      "dtype: float64\n",
      "price    0.381418\n",
      "dtype: float64\n"
     ]
    }
   ],
   "source": [
    "y_m=np.mean(y)\n",
    "print(y_m)\n",
    "print(rmsetrain/y_m)\n",
    "print(rmsetest/y_m)"
   ]
  },
  {
   "cell_type": "code",
   "execution_count": 220,
   "metadata": {},
   "outputs": [
    {
     "data": {
      "image/png": "[encoded data removed]",
      "text/plain": [
       "<matplotlib.figure.Figure at 0x272d8dab240>"
      ]
     },
     "metadata": {},
     "output_type": "display_data"
    }
   ],
   "source": [
    "plt.scatter(pred_train, pred_train - y_train, c='b', s=40, alpha=0.5)\n",
    "plt.scatter(pred_test, pred_test - y_test, c='g', s=40)\n",
    "plt.title('Residual Plot using training(blue) and testing(green) data')\n",
    "plt.ylabel('Residuals')\n",
    "plt.show()\n",
    "#This plot shows that the predicted values lie in the same vicinity as the tested values which is very much in \n",
    "#sync according to the independent variables that are used for prediction.\n",
    "# here, we can also see that the predicted values are very close the real values which means that to predict the price of the \n",
    "# diamond, width and carat parameters are enough."
   ]
  },
  {
   "cell_type": "markdown",
   "metadata": {},
   "source": [
    "# Now let us test whether the model fit is appropriate or not"
   ]
  },
  {
   "cell_type": "markdown",
   "metadata": {},
   "source": [
    "# Cross Validationg using Scikit Learn"
   ]
  },
  {
   "cell_type": "code",
   "execution_count": null,
   "metadata": {
    "collapsed": true
   },
   "outputs": [],
   "source": [
    "#R^2 value is basically dependant on the way the data is split. Hence, there may be times when the R^2 value may not be able to\n",
    "# represent the model's ability to generalize. For this we perform cross validation."
   ]
  },
  {
   "cell_type": "code",
   "execution_count": 225,
   "metadata": {},
   "outputs": [
    {
     "name": "stdout",
     "output_type": "stream",
     "text": [
      "[-0.72614722  0.38899251  0.71109183 -5.47050531 -1.20019253]\n",
      "-1.25935214625\n",
      "2.21906772735\n"
     ]
    }
   ],
   "source": [
    "reg=linear_model.LinearRegression()\n",
    "cv_results=cross_val_score(reg,X,y,cv=5)\n",
    "print(cv_results)\n",
    "print(np.mean(cv_results))\n",
    "print(np.std(cv_results))\n",
    "#Using cross validation of score 5"
   ]
  },
  {
   "cell_type": "markdown",
   "metadata": {},
   "source": [
    "# Regularization"
   ]
  },
  {
   "cell_type": "code",
   "execution_count": null,
   "metadata": {
    "collapsed": true
   },
   "outputs": [],
   "source": [
    "#We perform regularization in order to alter the loss function to penalize it for having higher coefficients for each feature\n",
    "# variable. And as we know, large coefficients leads to overfitting."
   ]
  },
  {
   "cell_type": "markdown",
   "metadata": {},
   "source": [
    "# Ridge Regression"
   ]
  },
  {
   "cell_type": "code",
   "execution_count": 102,
   "metadata": {},
   "outputs": [
    {
     "data": {
      "text/plain": [
       "0.83926182319378495"
      ]
     },
     "execution_count": 102,
     "metadata": {},
     "output_type": "execute_result"
    }
   ],
   "source": [
    "ridge = Ridge(alpha=0.1, normalize = True)\n",
    "ridge.fit(X_train,y_train)\n",
    "ridge_pred=ridge.predict(X_test)\n",
    "ridge.score(X_test,y_test)\n",
    "#The score is pretty much similar to the linear model built which ensures that the model has passed the Ridge regression test\n",
    "# for regularization\n",
    "#Ridge is used to penalize the loss function by adding the OLS loss function to the square of each coefficient multiplied by alpha."
   ]
  },
  {
   "cell_type": "markdown",
   "metadata": {},
   "source": [
    "# Lasso Regression"
   ]
  },
  {
   "cell_type": "code",
   "execution_count": 103,
   "metadata": {},
   "outputs": [
    {
     "name": "stdout",
     "output_type": "stream",
     "text": [
      "[ -437.73767756  8760.21546298]\n"
     ]
    }
   ],
   "source": [
    "lasso=Lasso(alpha=.1)\n",
    "lasso_coef = lasso.fit(X,y).coef_\n",
    "print(lasso_coef)"
   ]
  },
  {
   "cell_type": "code",
   "execution_count": 104,
   "metadata": {},
   "outputs": [
    {
     "data": {
      "image/png": "[encoded data removed]",
      "text/plain": [
       "<matplotlib.figure.Figure at 0x272dc118d30>"
      ]
     },
     "metadata": {},
     "output_type": "display_data"
    }
   ],
   "source": [
    "_ =plt.plot(range(len(X.T)),lasso_coef)\n",
    "_ =plt.xticks(range(len(X.T)), X.T)\n",
    "_ =plt.ylabel('Coefficients')\n",
    "plt.show()\n",
    "#As we can see from the lasso regression, it is very evident that \"carat\" which is at the 2nd position of the X plays a huge factor\n",
    "# in the increase of the price of the diamond along with the breadth (\"y\") which is at position 0 of X. "
   ]
  },
  {
   "cell_type": "raw",
   "metadata": {},
   "source": [
    "1) Is the relationship significant? \n",
    "Yes, the relationship between the dependent variable 'price' and the independent variables 'y' and 'carat' is significant as \n",
    "we have p-value of zero which shows that the slope is not zero for any random data and the model will predict the price of the diamond based on the input of the independent variables.\n",
    "2)Are any model assumptions violated? \n",
    "The model has been assumed based on the co-relation obtained between the independent and dependent variables. The rsme's calculated are pretty much same even when the data is split into test and train which does not show much of a difference in the R^2 value of the model which plays a crucial role in prediction. Also, since the pvalues are 0, beta1 is never zero. \n",
    "3) Is there any multi-colinearity in the model? The co-relation table has shown high co-relation in cases of 4 columns and VIF has been used to check whether all the highly co-related values are required for prediction. The co-relation ranged between 0.84-0.91\n",
    "5) In the multivariate models are predictor variables independent of all the other predictor variables? Well, in this case after the two variables on which the model has been predicted, we can somewhat say that 'carat' is independent of the 'width' of a diamond and vice versa.\n",
    "6) In in multivariate models rank the most significant predictor variables and exclude insignificant ones from the model. The sgnificance of the predictor variables in terms of predicting increasing prices of the diamond are as follows:\n",
    "1) carat\n",
    "2) y (width of the diamond in mm)\n",
    "7) Does the model make sense? Yes, the model makes sense as the final residual plot which shows the original price values and the predicted values are pretty much in sync with each other. Also, there is 85% chance of correct prediction of price whenever new data comes which counts for the proper training of this model.\n",
    "8) Does regularization help? I have used ridge and lasso regression as regularization methods to penalise the loss function for high coefficients. But after performing Ridge with an alpha factor of 0.1, the score of the model is 0.83 as compared to 0.85 on train and 0.84 on test which does not help much.\n",
    "\n"
   ]
  }
 ],
 "metadata": {
  "kernelspec": {
   "display_name": "Python 3",
   "language": "python",
   "name": "python3"
  },
  "language_info": {
   "codemirror_mode": {
    "name": "ipython",
    "version": 3
   },
   "file_extension": ".py",
   "mimetype": "text/x-python",
   "name": "python",
   "nbconvert_exporter": "python",
   "pygments_lexer": "ipython3",
   "version": "3.6.1"
  }
 },
 "nbformat": 4,
 "nbformat_minor": 2
}
